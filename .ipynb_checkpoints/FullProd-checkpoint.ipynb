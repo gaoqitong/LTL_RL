{
 "cells": [
  {
   "cell_type": "code",
   "execution_count": 1,
   "metadata": {
    "collapsed": true
   },
   "outputs": [],
   "source": [
    "import networkx as nx\n",
    "from networkx import DiGraph\n",
    "from networkx import dijkstra_path"
   ]
  },
  {
   "cell_type": "code",
   "execution_count": 2,
   "metadata": {
    "collapsed": true
   },
   "outputs": [],
   "source": [
    "class Region(object):\n",
    "    def __init__(self, coord, app, name=None):\n",
    "        ## ap is a LIST!!!\n",
    "        self.coord = coord\n",
    "        self.name = name\n",
    "        self.app = app\n",
    "        self.apr = [self.name]\n",
    "        self.ap = self.app + self.apr\n",
    "\n",
    "    def __repr__(self):\n",
    "        return self.name"
   ]
  },
  {
   "cell_type": "code",
   "execution_count": 3,
   "metadata": {
    "collapsed": true
   },
   "outputs": [],
   "source": [
    "r4 = Region((0,2),['basket'],'r4')\n",
    "r5 = Region((1,2),['rball'],'r5')\n",
    "r6 = Region((2,2),[],'r6')\n",
    "c1 = Region((0,1),[],'c1')\n",
    "c2 = Region((1,1),[],'c2')\n",
    "c3 = Region((2,1),[],'c3')\n",
    "r1 = Region((0,0),[],'r1')\n",
    "r2 = Region((1,0),['basket'],'r2')\n",
    "r3 = Region((2,0),['gball'],'r3')\n",
    "\n",
    "region_list = [r1, r2, r3, r4, r5, r6, c1, c2, c3]"
   ]
  },
  {
   "cell_type": "code",
   "execution_count": 4,
   "metadata": {
    "collapsed": true
   },
   "outputs": [],
   "source": [
    "class wFTS(object):\n",
    "    def __init__(self, states=set(), transition={}, initial=set()):\n",
    "        # trans_relat is a matrix stores control words\n",
    "        ## i.e. trans_relat[2][4] \n",
    "        # weight is a matrix stores transition cost if reachable, otherwise +infty\n",
    "        ## i.e. trans_relat[4][9] represents the weight when travel from region 5 to region 10\n",
    "        self.states = states\n",
    "        # states stores Region objects\n",
    "        self.transition = transition\n",
    "        self.initial = initial\n",
    "        \n",
    "    def add_states(self,new):\n",
    "        self.states.add(new)\n",
    "        if new not in self.transition.keys():\n",
    "            self.transition[new] = {}\n",
    "            self.transition[new][new] = 0\n",
    "        else:\n",
    "            raise AttributeError('This node is already in states')\n",
    "        \n",
    "    def add_initial(self,new):\n",
    "        self.initial.add(new)\n",
    "        \n",
    "    def add_transition(self,state1,state2,w=0,symmetric=True):\n",
    "        if state1 not in self.transition.keys():\n",
    "            self.transition[state1] = {}\n",
    "        if state2 not in self.transition.keys():\n",
    "            self.transition[state2] = {}\n",
    "        self.transition[state1][state2] = w\n",
    "        if symmetric == True:\n",
    "            self.transition[state2][state1] = w\n",
    "        \n",
    "    def change_weight(self,state1,state2,w,symmetric=True):\n",
    "        self.transition[state1][state2] = w\n",
    "        if symmetric == True:\n",
    "            self.transition[state2][state1] = w\n",
    "        \n",
    "    def L(self,region):\n",
    "        return region.ap\n",
    "    \n",
    "    def get_weight(self, region1, region2):\n",
    "        if region2 in self.transition[region1].keys():\n",
    "            return self.transition[region1][region2]\n",
    "        else:\n",
    "            raise ValueError('Cannot transit between %s and %s' %(str(region1.name),str(region2.name)) )\n",
    "    \n",
    "    def post(self,region):\n",
    "        if region not in self.states:\n",
    "            raise AttributeError('State not valid')\n",
    "        else:\n",
    "            return [i for i in self.transition[region].keys()]\n",
    "        "
   ]
  },
  {
   "cell_type": "code",
   "execution_count": 5,
   "metadata": {
    "collapsed": true
   },
   "outputs": [],
   "source": [
    "wfts = wFTS()\n",
    "\n",
    "for i in region_list:\n",
    "    wfts.add_states(i)\n",
    "    \n",
    "wfts.add_transition(r1,c1,1)\n",
    "wfts.add_transition(c1,c2,1)\n",
    "wfts.add_transition(c1,r4,1)\n",
    "wfts.add_transition(c2,c3,1)\n",
    "wfts.add_transition(c2,r2,1)\n",
    "wfts.add_transition(c2,r5,1)\n",
    "wfts.add_transition(c3,r6,1)\n",
    "wfts.add_transition(c3,r3,1)\n",
    "\n",
    "wfts.add_initial(r1)\n",
    "\n",
    "\n"
   ]
  },
  {
   "cell_type": "code",
   "execution_count": 6,
   "metadata": {},
   "outputs": [
    {
     "data": {
      "text/plain": [
       "'./wfts.dot.pdf'"
      ]
     },
     "execution_count": 6,
     "metadata": {},
     "output_type": "execute_result"
    }
   ],
   "source": [
    "import graphviz as gv\n",
    "wfts_graph = DiGraph()\n",
    "wfts_graph.add_nodes_from([i for i in wfts.states])\n",
    "for i in wfts.states:\n",
    "    for j in wfts.transition[i].keys():\n",
    "        if wfts.transition[i][j] is not None:\n",
    "            wfts_graph.add_edge(i,j,weight=wfts.transition[i][j])\n",
    "nx.write_dot(wfts_graph,'./wfts.dot')\n",
    "with open('./wfts.dot','r') as myfile:\n",
    "    plot_wfts_graph = myfile.read().replace('\\n','').replace('weight','label')\n",
    "plot_wfts_graph = gv.Source(wfts_graph)\n",
    "plot_wfts_graph.render('./wfts.dot',view=True)\n"
   ]
  },
  {
   "cell_type": "code",
   "execution_count": 7,
   "metadata": {
    "collapsed": true
   },
   "outputs": [],
   "source": [
    "class Buchi_Automaton(object):\n",
    "    def __init__(self, buchi):\n",
    "        self.states = [i for i in buchi.nodes()]\n",
    "        # states are str\n",
    "        self.alphabet = [i for i in buchi.graph['symbols']]\n",
    "        self.transition = buchi.edge\n",
    "        self.initial = [i for i in buchi.graph['initial']]\n",
    "        self.accept = [i for i in buchi.graph['accept']]\n",
    "        \n",
    "    def get_ap(self, state1, state2):\n",
    "        if state1 not in self.states or state2 not in self.states:\n",
    "            raise AttributeError('State not valid')\n",
    "        elif state2 not in self.transition[state1].keys():\n",
    "            raise AttributeError('State2 cannot be reached from State1')\n",
    "        else:\n",
    "            result = self.transition[state1][state2]['guard_formula']\n",
    "            if len(result) == 1:\n",
    "                return result\n",
    "            else:    \n",
    "                return result[1:-1]\n",
    "        \n",
    "    def post(self, state):\n",
    "        if state not in self.states:\n",
    "            raise AttributeError('State not valid')\n",
    "        else:\n",
    "            return [i for i in self.transition[state].keys()]\n",
    "        \n",
    "    def get_transition_through_ap(self, state, ap):\n",
    "        if '&&' in ap:\n",
    "            reachable_state = []\n",
    "            seperated_ap,neg_in_ap = self.seperate_ap_sentence(ap)\n",
    "            for i in self.transition[state].keys():\n",
    "                j = self.get_ap(state,i)\n",
    "                seperated_j,neg_in_j = self.seperate_ap_sentence(j)\n",
    "                if '&&' in j:\n",
    "                    if len(seperated_ap) >= len(seperated_j):\n",
    "                        if set(seperated_ap).issuperset(set(seperated_j)) and self.check_negations(seperated_j,neg_in_j,seperated_ap,neg_in_ap):\n",
    "                            reachable_state += [i]\n",
    "                else:\n",
    "                    if '!' in j:\n",
    "                        if j in ap or self.check_negations(seperated_j,neg_in_j,seperated_ap,neg_in_ap):\n",
    "                            reachable_state += [i]\n",
    "                    else:\n",
    "                        if j in ap or j=='1':\n",
    "                            reachable_state += [i]\n",
    "            return reachable_state\n",
    "                        \n",
    "        else:\n",
    "            reachable_state = []\n",
    "            seperated_ap,neg_in_ap = self.seperate_ap_sentence(ap)\n",
    "            for i in self.transition[state].keys():\n",
    "                j = self.get_ap(state,i)\n",
    "                seperated_j,neg_in_j = self.seperate_ap_sentence(j)\n",
    "                if '&&' in j:\n",
    "                    if len(seperated_j) <= 1:\n",
    "                        if set(seperated_ap).issuperset(set(seperated_j)) and self.check_negations(seperated_j,neg_in_j,seperated_ap,neg_in_ap):\n",
    "                            reachable_state += [i] \n",
    "                else:\n",
    "                    if '!' not in j:\n",
    "                        if j in ap or j=='1':\n",
    "                            reachable_state += [i]\n",
    "                    else:\n",
    "                        if '!' in ap:\n",
    "                            if j == ap:\n",
    "                                reachable_state += [i]\n",
    "                        else:\n",
    "                            if self.check_negations(seperated_j,neg_in_j,seperated_ap,neg_in_ap):\n",
    "                                reachable_state += [i]\n",
    "            return reachable_state\n",
    "\n",
    "\n",
    "    def plot(self,filename='current_buchi'):\n",
    "        plot_buchi(buchi,filename)\n",
    "        \n",
    "    def find_ampersand(self,input_str):\n",
    "        index = []\n",
    "        original_length = len(input_str)\n",
    "        original_str = input_str\n",
    "        while input_str.find('&&')>=0:\n",
    "            index += [input_str.index('&&')-len(input_str)+original_length]\n",
    "            input_str = original_str[index[-1]+2:]\n",
    "        return index\n",
    "    \n",
    "    def seperate_ap_sentence(self,input_str):\n",
    "        if len(input_str)>1:\n",
    "            index = self.find_ampersand(input_str)\n",
    "            if len(index)>=1:\n",
    "                return_str = [input_str[0:index[0]]]\n",
    "            else:\n",
    "                return_str = input_str\n",
    "                if '!' in return_str:\n",
    "                    return [],[return_str.replace('!','')]\n",
    "                else:\n",
    "                    return [return_str],[]\n",
    "            for i in range(1,len(index)):\n",
    "                return_str += [input_str[index[i-1]+2:index[i]]]\n",
    "            return_str = return_str + [input_str[index[-1]+2:]]\n",
    "            return_str = [i.replace(' ','') for i in return_str]\n",
    "        elif len(input_str)==1:\n",
    "            return_str = input_str\n",
    "        elif len(input_str) == 0:    \n",
    "            raise AttributeError('input_str has no length')\n",
    "            \n",
    "        without_negs = []\n",
    "        negations = []\n",
    "        for i in range(len(return_str)):\n",
    "            if '!' in return_str[i]:\n",
    "                negations += [return_str[i].replace('!','')]\n",
    "            else:\n",
    "                without_negs += [return_str[i]]\n",
    "        return without_negs,negations\n",
    "    \n",
    "    def check_negations(self,set1,neg1,set2,neg2):\n",
    "        for i in set1:\n",
    "            if i in neg2:\n",
    "                return False\n",
    "        for i in set2:\n",
    "            if i in neg1:\n",
    "                return False\n",
    "        return True\n",
    "        "
   ]
  },
  {
   "cell_type": "code",
   "execution_count": 8,
   "metadata": {},
   "outputs": [
    {
     "name": "stdout",
     "output_type": "stream",
     "text": [
      "Graph Successfully Plotted\n"
     ]
    }
   ],
   "source": [
    "import sys\n",
    "sys.path.append('/Users/gaoqitong/Master_Project/Thesis_Code/')\n",
    "sys.path.append('/Users/gaoqitong/Master_Project/P_MAS_TG-master/')\n",
    "from P_MAS_TG.buchi import buchi_from_ltl\n",
    "formula = '<>(rball && <>basket) && <>[]r1'\n",
    "# formula = '<>(rball && <>basket) && <>(gball && <>basket) && <>[]r1 && [](rball->X(!gball U basket)) && [](gball->X(!rball U basket))'\n",
    "# formula = '<>(rball && <>(basket && r2)) && <>(gball && <>(basket && r4)) && [](rball->X(!gball U basket)) && [](gball->X(!rball U basket)) && <>[]r1'\n",
    "\n",
    "buchi = buchi_from_ltl(formula,None)\n",
    "my_buchi = Buchi_Automaton(buchi)\n",
    "\n",
    "from VisualizeBuchi import plot_buchi\n",
    "my_buchi.plot()\n"
   ]
  },
  {
   "cell_type": "code",
   "execution_count": 9,
   "metadata": {
    "collapsed": true
   },
   "outputs": [],
   "source": [
    "class FullProd(object):\n",
    "    def __init__(self, wFTS, Buchi):\n",
    "        self.states = set()\n",
    "        self.transition = {}\n",
    "        # transition is a dict where every state stores as a key and value is a dic contains every reachable\n",
    "        # state from this key and the weight to transit\n",
    "        self.initial = set()\n",
    "        self.accept = set()\n",
    "        self.wFTS = wFTS\n",
    "        self.Buchi = Buchi\n",
    "        \n",
    "    def construct_fullproduct(self):\n",
    "        alpha = 1\n",
    "        for pi_i in self.wFTS.states:\n",
    "            for q_m in self.Buchi.states:\n",
    "                q_s = (pi_i,q_m)\n",
    "                self.states.add(q_s)\n",
    "                if q_s not in self.transition.keys():\n",
    "                    self.transition[q_s] = {}\n",
    "                if pi_i in self.wFTS.initial and q_m in self.Buchi.initial:\n",
    "                    self.initial.add(q_s)\n",
    "                if q_m in self.Buchi.accept:\n",
    "                    self.accept.add(q_s)\n",
    "                    \n",
    "                for pi_j in self.wFTS.post(pi_i):\n",
    "                    for q_n in self.Buchi.post(q_m):\n",
    "                        q_g = (pi_j,q_n)\n",
    "                        self.states.add(q_g)\n",
    "                        if q_g not in self.transition.keys():\n",
    "                            self.transition[q_g] = {}\n",
    "                        d = self.check_tran_b(q_m,self.wFTS.L(pi_i),q_n,self.Buchi)\n",
    "                        if d >= 0:\n",
    "                            self.transition[q_s][q_g] = self.wFTS.get_weight(pi_i,pi_j) + alpha*d\n",
    "                            \n",
    "    def get_weight(self,state1,state2):\n",
    "        return self.transition[state1][state2]\n",
    "\n",
    "                        \n",
    "    def check_tran_b(self, b_state1, l, b_state2, Buchi):\n",
    "        d = -1\n",
    "        if len(l) == 1:\n",
    "            if b_state2 in self.Buchi.get_transition_through_ap(b_state1, l[0]):\n",
    "                d = 0\n",
    "                return d\n",
    "        if len(l) > 1:\n",
    "            conjunction = [l[i]+'&&' if i!=len(l)-1 else l[i] for i in range(len(l))]\n",
    "            conjunction = ''.join(conjunction)\n",
    "            if b_state2 in self.Buchi.get_transition_through_ap(b_state1, conjunction):\n",
    "                d = 0\n",
    "                return d\n",
    "        return d\n",
    "    \n",
    "    def get_state(self,index):\n",
    "        return list(self.states)[index]\n",
    "    \n",
    "    def return_graph(self):\n",
    "        index = 0\n",
    "        digraph = DiGraph()\n",
    "        digraph.add_nodes_from([i for i in self.states])\n",
    "        for i in self.states:\n",
    "            for j in self.transition[i].keys():\n",
    "                if self.transition[i][j] is not None:\n",
    "                    digraph.add_edge(i,j,weight=self.transition[i][j])\n",
    "        return digraph\n",
    "                        "
   ]
  },
  {
   "cell_type": "code",
   "execution_count": 10,
   "metadata": {
    "scrolled": true
   },
   "outputs": [
    {
     "name": "stdout",
     "output_type": "stream",
     "text": [
      "153\n"
     ]
    }
   ],
   "source": [
    "full_prod = FullProd(wfts,my_buchi)\n",
    "full_prod.construct_fullproduct()\n",
    "count = 0\n",
    "for i in full_prod.states:\n",
    "    for j in full_prod.transition[i].keys():\n",
    "        if full_prod.transition[i][j] is not None:\n",
    "            count += 1            \n",
    "print count"
   ]
  },
  {
   "cell_type": "code",
   "execution_count": 11,
   "metadata": {},
   "outputs": [
    {
     "data": {
      "text/plain": [
       "'./FullProd.dot.pdf'"
      ]
     },
     "execution_count": 11,
     "metadata": {},
     "output_type": "execute_result"
    }
   ],
   "source": [
    "from networkx import DiGraph\n",
    "import networkx as nx\n",
    "import graphviz as gv\n",
    "graph = full_prod.return_graph()\n",
    "nx.write_dot(graph,'./FullProd.dot')\n",
    "with open('./FullProd.dot','r') as myfile:\n",
    "    graph = myfile.read().replace('\\n','').replace('weight','label')\n",
    "graph = gv.Source(graph)\n",
    "graph.render('./FullProd.dot',view=True)"
   ]
  },
  {
   "cell_type": "code",
   "execution_count": 12,
   "metadata": {
    "collapsed": true
   },
   "outputs": [],
   "source": [
    "def search_opt_run(FullProduct):\n",
    "    candidates_pre = {}\n",
    "    candidates_suf = {}\n",
    "    candidates = {}\n",
    "    G = FullProduct.return_graph()\n",
    "    for initial_state in FullProduct.initial:\n",
    "        for accept_state in FullProduct.accept:\n",
    "            try:\n",
    "                opt_path = nx.dijkstra_path(G,initial_state,accept_state,'weight')\n",
    "                path_cost = nx.dijkstra_path_length(G,initial_state,accept_state,'weight')\n",
    "                if initial_state not in candidates_pre.keys():\n",
    "                    candidates_pre[initial_state] = {}\n",
    "                candidates_pre[initial_state][accept_state] = (opt_path,path_cost)\n",
    "            except:\n",
    "                pass\n",
    "#     print candidates_pre\n",
    "    for accept_state in FullProduct.accept:\n",
    "        successors = FullProduct.transition[accept_state].keys()\n",
    "        best_path = []\n",
    "        best_cost = float('inf')\n",
    "        for successor in successors:\n",
    "            if successor is not accept_state:\n",
    "                try:\n",
    "                    current_path = nx.dijkstra_path(G,accept_state,successor,'weight') + nx.dijkstra_path(G,successor,accept_state,'weight')\n",
    "                    current_cost = nx.dijkstra_path_length(G,accept_state,successor,'weight') + nx.dijkstra_path_length(G,successor,accept_state,'weight')\n",
    "                    if current_cost < best_cost:\n",
    "                        best_path = current_path\n",
    "                        best_cost = current_cost\n",
    "                except:\n",
    "                    pass\n",
    "            else:\n",
    "                current_path = [(accept_state,accept_state)]\n",
    "                current_cost = FullProduct.transition[accept_state][accept_state]\n",
    "                if current_cost < best_cost:\n",
    "                    best_path = current_path\n",
    "                    best_cost = current_cost\n",
    "        if best_cost < float('inf'):\n",
    "            candidates_suf[accept_state] = (best_path,best_cost)\n",
    "#     print candidates_suf\n",
    "    for initial_state in candidates_pre.keys():\n",
    "        for accept_state in candidates_pre[initial_state].keys():\n",
    "            if accept_state in candidates_suf.keys():\n",
    "                candidates[(initial_state,accept_state)] = (candidates_pre[initial_state][accept_state][0]+candidates_suf[accept_state][0],\n",
    "                                                           candidates_pre[initial_state][accept_state][1]+candidates_suf[accept_state][1])\n",
    "    opt_run = min(candidates.items(),key=lambda x : x[1][1])\n",
    "    return opt_run[1]"
   ]
  },
  {
   "cell_type": "code",
   "execution_count": 13,
   "metadata": {
    "collapsed": true
   },
   "outputs": [],
   "source": [
    "opt=search_opt_run(full_prod)\n",
    "# print graph.edge[(region4,'accept_S6')]\n",
    "# print nx.find_cycle(graph,(region1,'accept_S6'))"
   ]
  },
  {
   "cell_type": "code",
   "execution_count": 14,
   "metadata": {
    "scrolled": true
   },
   "outputs": [
    {
     "name": "stdout",
     "output_type": "stream",
     "text": [
      "[r1, c1, c2, r5, c2, c1, r4, c1, r1, r1, r1, r1]\n",
      "12\n"
     ]
    }
   ],
   "source": [
    "print [opt[0][i][0] for i in range(len(opt[0]))]\n",
    "print len([opt[0][i][0] for i in range(len(opt[0]))])"
   ]
  }
 ],
 "metadata": {
  "kernelspec": {
   "display_name": "Python 2",
   "language": "python",
   "name": "python2"
  },
  "language_info": {
   "codemirror_mode": {
    "name": "ipython",
    "version": 2
   },
   "file_extension": ".py",
   "mimetype": "text/x-python",
   "name": "python",
   "nbconvert_exporter": "python",
   "pygments_lexer": "ipython2",
   "version": "2.7.13"
  }
 },
 "nbformat": 4,
 "nbformat_minor": 2
}
